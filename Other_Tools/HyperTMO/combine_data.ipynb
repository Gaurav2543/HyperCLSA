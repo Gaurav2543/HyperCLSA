{
 "cells": [
  {
   "cell_type": "code",
   "execution_count": 16,
   "metadata": {},
   "outputs": [],
   "source": [
    "import pandas as pd \n",
    "import numpy as np\n",
    "import csv\n"
   ]
  },
  {
   "cell_type": "code",
   "execution_count": 14,
   "metadata": {},
   "outputs": [
    {
     "name": "stdout",
     "output_type": "stream",
     "text": [
      "1000\n",
      "(612, 1000)\n",
      "(263, 1000)\n",
      "(875, 1000)\n",
      "1000\n",
      "(612, 1000)\n",
      "(263, 1000)\n",
      "(875, 1000)\n",
      "503\n",
      "(612, 503)\n",
      "(263, 503)\n",
      "(875, 503)\n"
     ]
    }
   ],
   "source": [
    "    \n",
    "def make_file(idx, omics):\n",
    "    feature_names = pd.read_csv(f\"BRCA2/{idx}_featname.csv\", header=None)\n",
    "    print(len(feature_names))\n",
    "\n",
    "    # Read training and testing samples\n",
    "    train_samples = pd.read_csv(f\"BRCA2/{idx}_tr.csv\", header=None)\n",
    "    test_samples = pd.read_csv(f\"BRCA2/{idx}_te.csv\", header=None)\n",
    "    print(train_samples.shape)\n",
    "    print(test_samples.shape)\n",
    "\n",
    "    # Concatenate train and test samples\n",
    "    output = pd.concat([train_samples, test_samples], axis=0)\n",
    "    print(output.shape)\n",
    "\n",
    "    if feature_names.shape[1] == 1:\n",
    "        feature_names_list = feature_names[0].tolist()\n",
    "        # Assign feature names as column names for the output\n",
    "        output.columns = feature_names_list\n",
    "\n",
    "    output.to_csv(f\"BRCA2/{omics}.csv\", index=False)\n",
    "\n",
    "make_file(1, \"mRNA\")\n",
    "make_file(2,\"meth\")\n",
    "make_file(3, \"miRNA\")"
   ]
  },
  {
   "cell_type": "code",
   "execution_count": 17,
   "metadata": {},
   "outputs": [
    {
     "name": "stdout",
     "output_type": "stream",
     "text": [
      "875\n",
      "List has been written to list_output_vertical.csv as separate rows\n"
     ]
    }
   ],
   "source": [
    "labels_tr = pd.read_csv(\"BRCA2/labels_tr.csv\", header=None)\n",
    "labels_te = pd.read_csv(\"BRCA2/labels_te.csv\", header=None)\n",
    "labels = []\n",
    "if labels_tr.shape[1] == 1:\n",
    "    labels_tr_list = labels_tr[0].tolist()\n",
    "    labels = labels_tr_list\n",
    "    labels.extend(labels_te[0].tolist())\n",
    "\n",
    "print(len(labels))\n",
    "\n",
    "with open('BRCA2/labels.csv', 'w', newline='') as file:\n",
    "    writer = csv.writer(file)\n",
    "    for item in labels:\n",
    "        writer.writerow([item])  # Note: each item needs to be in its own list\n",
    "\n",
    "print(\"List has been written to list_output_vertical.csv as separate rows\")\n"
   ]
  },
  {
   "cell_type": "code",
   "execution_count": null,
   "metadata": {},
   "outputs": [],
   "source": []
  }
 ],
 "metadata": {
  "kernelspec": {
   "display_name": "mlns",
   "language": "python",
   "name": "python3"
  },
  "language_info": {
   "codemirror_mode": {
    "name": "ipython",
    "version": 3
   },
   "file_extension": ".py",
   "mimetype": "text/x-python",
   "name": "python",
   "nbconvert_exporter": "python",
   "pygments_lexer": "ipython3",
   "version": "3.9.21"
  }
 },
 "nbformat": 4,
 "nbformat_minor": 2
}
